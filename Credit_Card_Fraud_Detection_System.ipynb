{
 "nbformat": 4,
 "nbformat_minor": 0,
 "metadata": {
  "colab": {
   "provenance": []
  },
  "kernelspec": {
   "name": "python3",
   "display_name": "Python 3 (ipykernel)",
   "language": "python"
  },
  "language_info": {
   "name": "python"
  }
 },
 "cells": [
  {
   "cell_type": "code",
   "source": [
    "import pandas as pd\n",
    "import numpy as np\n",
    "import matplotlib.pyplot as plt\n",
    "import seaborn as sns\n",
    "from sklearn.preprocessing import LabelEncoder\n",
    "from sklearn.model_selection import train_test_split\n",
    "from sklearn.ensemble import RandomForestClassifier\n",
    "from sklearn.metrics import accuracy_score\n",
    "from sklearn.tree import DecisionTreeClassifier\n",
    "from sklearn.svm import SVC\n",
    "import xgboost as xgb\n",
    "from sklearn.metrics import classification_report, confusion_matrix\n",
    "import pickle"
   ],
   "metadata": {
    "id": "kIk7yaKHSYnE",
    "ExecuteTime": {
     "end_time": "2024-12-15T20:38:58.165648Z",
     "start_time": "2024-12-15T20:38:57.676135Z"
    }
   },
   "outputs": [],
   "execution_count": 1
  },
  {
   "cell_type": "code",
   "source": [
    "df=pd.read_csv('PS_20174392719_1491204439457_log.csv')\n",
    "df.head()"
   ],
   "metadata": {
    "id": "txP-mnEaT-wf",
    "ExecuteTime": {
     "end_time": "2024-12-15T20:39:06.767767Z",
     "start_time": "2024-12-15T20:38:59.366697Z"
    }
   },
   "outputs": [
    {
     "data": {
      "text/plain": [
       "   step      type    amount     nameOrig  oldbalanceOrg  newbalanceOrig  \\\n",
       "0     1   PAYMENT   9839.64  C1231006815       170136.0       160296.36   \n",
       "1     1   PAYMENT   1864.28  C1666544295        21249.0        19384.72   \n",
       "2     1  TRANSFER    181.00  C1305486145          181.0            0.00   \n",
       "3     1  CASH_OUT    181.00   C840083671          181.0            0.00   \n",
       "4     1   PAYMENT  11668.14  C2048537720        41554.0        29885.86   \n",
       "\n",
       "      nameDest  oldbalanceDest  newbalanceDest  isFraud  isFlaggedFraud  \n",
       "0  M1979787155             0.0             0.0        0               0  \n",
       "1  M2044282225             0.0             0.0        0               0  \n",
       "2   C553264065             0.0             0.0        1               0  \n",
       "3    C38997010         21182.0             0.0        1               0  \n",
       "4  M1230701703             0.0             0.0        0               0  "
      ],
      "text/html": [
       "<div>\n",
       "<style scoped>\n",
       "    .dataframe tbody tr th:only-of-type {\n",
       "        vertical-align: middle;\n",
       "    }\n",
       "\n",
       "    .dataframe tbody tr th {\n",
       "        vertical-align: top;\n",
       "    }\n",
       "\n",
       "    .dataframe thead th {\n",
       "        text-align: right;\n",
       "    }\n",
       "</style>\n",
       "<table border=\"1\" class=\"dataframe\">\n",
       "  <thead>\n",
       "    <tr style=\"text-align: right;\">\n",
       "      <th></th>\n",
       "      <th>step</th>\n",
       "      <th>type</th>\n",
       "      <th>amount</th>\n",
       "      <th>nameOrig</th>\n",
       "      <th>oldbalanceOrg</th>\n",
       "      <th>newbalanceOrig</th>\n",
       "      <th>nameDest</th>\n",
       "      <th>oldbalanceDest</th>\n",
       "      <th>newbalanceDest</th>\n",
       "      <th>isFraud</th>\n",
       "      <th>isFlaggedFraud</th>\n",
       "    </tr>\n",
       "  </thead>\n",
       "  <tbody>\n",
       "    <tr>\n",
       "      <th>0</th>\n",
       "      <td>1</td>\n",
       "      <td>PAYMENT</td>\n",
       "      <td>9839.64</td>\n",
       "      <td>C1231006815</td>\n",
       "      <td>170136.0</td>\n",
       "      <td>160296.36</td>\n",
       "      <td>M1979787155</td>\n",
       "      <td>0.0</td>\n",
       "      <td>0.0</td>\n",
       "      <td>0</td>\n",
       "      <td>0</td>\n",
       "    </tr>\n",
       "    <tr>\n",
       "      <th>1</th>\n",
       "      <td>1</td>\n",
       "      <td>PAYMENT</td>\n",
       "      <td>1864.28</td>\n",
       "      <td>C1666544295</td>\n",
       "      <td>21249.0</td>\n",
       "      <td>19384.72</td>\n",
       "      <td>M2044282225</td>\n",
       "      <td>0.0</td>\n",
       "      <td>0.0</td>\n",
       "      <td>0</td>\n",
       "      <td>0</td>\n",
       "    </tr>\n",
       "    <tr>\n",
       "      <th>2</th>\n",
       "      <td>1</td>\n",
       "      <td>TRANSFER</td>\n",
       "      <td>181.00</td>\n",
       "      <td>C1305486145</td>\n",
       "      <td>181.0</td>\n",
       "      <td>0.00</td>\n",
       "      <td>C553264065</td>\n",
       "      <td>0.0</td>\n",
       "      <td>0.0</td>\n",
       "      <td>1</td>\n",
       "      <td>0</td>\n",
       "    </tr>\n",
       "    <tr>\n",
       "      <th>3</th>\n",
       "      <td>1</td>\n",
       "      <td>CASH_OUT</td>\n",
       "      <td>181.00</td>\n",
       "      <td>C840083671</td>\n",
       "      <td>181.0</td>\n",
       "      <td>0.00</td>\n",
       "      <td>C38997010</td>\n",
       "      <td>21182.0</td>\n",
       "      <td>0.0</td>\n",
       "      <td>1</td>\n",
       "      <td>0</td>\n",
       "    </tr>\n",
       "    <tr>\n",
       "      <th>4</th>\n",
       "      <td>1</td>\n",
       "      <td>PAYMENT</td>\n",
       "      <td>11668.14</td>\n",
       "      <td>C2048537720</td>\n",
       "      <td>41554.0</td>\n",
       "      <td>29885.86</td>\n",
       "      <td>M1230701703</td>\n",
       "      <td>0.0</td>\n",
       "      <td>0.0</td>\n",
       "      <td>0</td>\n",
       "      <td>0</td>\n",
       "    </tr>\n",
       "  </tbody>\n",
       "</table>\n",
       "</div>"
      ]
     },
     "execution_count": 2,
     "metadata": {},
     "output_type": "execute_result"
    }
   ],
   "execution_count": 2
  },
  {
   "cell_type": "code",
   "source": "df.drop(['isFlaggedFraud'], axis=1,inplace=True)",
   "metadata": {
    "id": "TYSsbjOxUXhB",
    "ExecuteTime": {
     "end_time": "2024-12-15T20:39:08.274023Z",
     "start_time": "2024-12-15T20:39:08.006174Z"
    }
   },
   "outputs": [],
   "execution_count": 3
  },
  {
   "cell_type": "code",
   "source": [
    "df.shape"
   ],
   "metadata": {
    "id": "LBwFr4neUeWC",
    "ExecuteTime": {
     "end_time": "2024-12-15T20:39:08.973796Z",
     "start_time": "2024-12-15T20:39:08.968404Z"
    }
   },
   "outputs": [
    {
     "data": {
      "text/plain": [
       "(6362620, 10)"
      ]
     },
     "execution_count": 4,
     "metadata": {},
     "output_type": "execute_result"
    }
   ],
   "execution_count": 4
  },
  {
   "cell_type": "code",
   "source": [
    "df.describe()"
   ],
   "metadata": {
    "id": "4ip2eDIcUf55",
    "ExecuteTime": {
     "end_time": "2024-12-15T20:39:11.297359Z",
     "start_time": "2024-12-15T20:39:09.941838Z"
    }
   },
   "outputs": [
    {
     "data": {
      "text/plain": [
       "               step        amount  oldbalanceOrg  newbalanceOrig  \\\n",
       "count  6.362620e+06  6.362620e+06   6.362620e+06    6.362620e+06   \n",
       "mean   2.433972e+02  1.798619e+05   8.338831e+05    8.551137e+05   \n",
       "std    1.423320e+02  6.038582e+05   2.888243e+06    2.924049e+06   \n",
       "min    1.000000e+00  0.000000e+00   0.000000e+00    0.000000e+00   \n",
       "25%    1.560000e+02  1.338957e+04   0.000000e+00    0.000000e+00   \n",
       "50%    2.390000e+02  7.487194e+04   1.420800e+04    0.000000e+00   \n",
       "75%    3.350000e+02  2.087215e+05   1.073152e+05    1.442584e+05   \n",
       "max    7.430000e+02  9.244552e+07   5.958504e+07    4.958504e+07   \n",
       "\n",
       "       oldbalanceDest  newbalanceDest       isFraud  \n",
       "count    6.362620e+06    6.362620e+06  6.362620e+06  \n",
       "mean     1.100702e+06    1.224996e+06  1.290820e-03  \n",
       "std      3.399180e+06    3.674129e+06  3.590480e-02  \n",
       "min      0.000000e+00    0.000000e+00  0.000000e+00  \n",
       "25%      0.000000e+00    0.000000e+00  0.000000e+00  \n",
       "50%      1.327057e+05    2.146614e+05  0.000000e+00  \n",
       "75%      9.430367e+05    1.111909e+06  0.000000e+00  \n",
       "max      3.560159e+08    3.561793e+08  1.000000e+00  "
      ],
      "text/html": [
       "<div>\n",
       "<style scoped>\n",
       "    .dataframe tbody tr th:only-of-type {\n",
       "        vertical-align: middle;\n",
       "    }\n",
       "\n",
       "    .dataframe tbody tr th {\n",
       "        vertical-align: top;\n",
       "    }\n",
       "\n",
       "    .dataframe thead th {\n",
       "        text-align: right;\n",
       "    }\n",
       "</style>\n",
       "<table border=\"1\" class=\"dataframe\">\n",
       "  <thead>\n",
       "    <tr style=\"text-align: right;\">\n",
       "      <th></th>\n",
       "      <th>step</th>\n",
       "      <th>amount</th>\n",
       "      <th>oldbalanceOrg</th>\n",
       "      <th>newbalanceOrig</th>\n",
       "      <th>oldbalanceDest</th>\n",
       "      <th>newbalanceDest</th>\n",
       "      <th>isFraud</th>\n",
       "    </tr>\n",
       "  </thead>\n",
       "  <tbody>\n",
       "    <tr>\n",
       "      <th>count</th>\n",
       "      <td>6.362620e+06</td>\n",
       "      <td>6.362620e+06</td>\n",
       "      <td>6.362620e+06</td>\n",
       "      <td>6.362620e+06</td>\n",
       "      <td>6.362620e+06</td>\n",
       "      <td>6.362620e+06</td>\n",
       "      <td>6.362620e+06</td>\n",
       "    </tr>\n",
       "    <tr>\n",
       "      <th>mean</th>\n",
       "      <td>2.433972e+02</td>\n",
       "      <td>1.798619e+05</td>\n",
       "      <td>8.338831e+05</td>\n",
       "      <td>8.551137e+05</td>\n",
       "      <td>1.100702e+06</td>\n",
       "      <td>1.224996e+06</td>\n",
       "      <td>1.290820e-03</td>\n",
       "    </tr>\n",
       "    <tr>\n",
       "      <th>std</th>\n",
       "      <td>1.423320e+02</td>\n",
       "      <td>6.038582e+05</td>\n",
       "      <td>2.888243e+06</td>\n",
       "      <td>2.924049e+06</td>\n",
       "      <td>3.399180e+06</td>\n",
       "      <td>3.674129e+06</td>\n",
       "      <td>3.590480e-02</td>\n",
       "    </tr>\n",
       "    <tr>\n",
       "      <th>min</th>\n",
       "      <td>1.000000e+00</td>\n",
       "      <td>0.000000e+00</td>\n",
       "      <td>0.000000e+00</td>\n",
       "      <td>0.000000e+00</td>\n",
       "      <td>0.000000e+00</td>\n",
       "      <td>0.000000e+00</td>\n",
       "      <td>0.000000e+00</td>\n",
       "    </tr>\n",
       "    <tr>\n",
       "      <th>25%</th>\n",
       "      <td>1.560000e+02</td>\n",
       "      <td>1.338957e+04</td>\n",
       "      <td>0.000000e+00</td>\n",
       "      <td>0.000000e+00</td>\n",
       "      <td>0.000000e+00</td>\n",
       "      <td>0.000000e+00</td>\n",
       "      <td>0.000000e+00</td>\n",
       "    </tr>\n",
       "    <tr>\n",
       "      <th>50%</th>\n",
       "      <td>2.390000e+02</td>\n",
       "      <td>7.487194e+04</td>\n",
       "      <td>1.420800e+04</td>\n",
       "      <td>0.000000e+00</td>\n",
       "      <td>1.327057e+05</td>\n",
       "      <td>2.146614e+05</td>\n",
       "      <td>0.000000e+00</td>\n",
       "    </tr>\n",
       "    <tr>\n",
       "      <th>75%</th>\n",
       "      <td>3.350000e+02</td>\n",
       "      <td>2.087215e+05</td>\n",
       "      <td>1.073152e+05</td>\n",
       "      <td>1.442584e+05</td>\n",
       "      <td>9.430367e+05</td>\n",
       "      <td>1.111909e+06</td>\n",
       "      <td>0.000000e+00</td>\n",
       "    </tr>\n",
       "    <tr>\n",
       "      <th>max</th>\n",
       "      <td>7.430000e+02</td>\n",
       "      <td>9.244552e+07</td>\n",
       "      <td>5.958504e+07</td>\n",
       "      <td>4.958504e+07</td>\n",
       "      <td>3.560159e+08</td>\n",
       "      <td>3.561793e+08</td>\n",
       "      <td>1.000000e+00</td>\n",
       "    </tr>\n",
       "  </tbody>\n",
       "</table>\n",
       "</div>"
      ]
     },
     "execution_count": 5,
     "metadata": {},
     "output_type": "execute_result"
    }
   ],
   "execution_count": 5
  },
  {
   "cell_type": "code",
   "source": [
    "df.info()"
   ],
   "metadata": {
    "id": "RhrddGi4UhnQ",
    "ExecuteTime": {
     "end_time": "2024-12-15T20:39:12.062391Z",
     "start_time": "2024-12-15T20:39:12.051186Z"
    }
   },
   "outputs": [
    {
     "name": "stdout",
     "output_type": "stream",
     "text": [
      "<class 'pandas.core.frame.DataFrame'>\n",
      "RangeIndex: 6362620 entries, 0 to 6362619\n",
      "Data columns (total 10 columns):\n",
      " #   Column          Dtype  \n",
      "---  ------          -----  \n",
      " 0   step            int64  \n",
      " 1   type            object \n",
      " 2   amount          float64\n",
      " 3   nameOrig        object \n",
      " 4   oldbalanceOrg   float64\n",
      " 5   newbalanceOrig  float64\n",
      " 6   nameDest        object \n",
      " 7   oldbalanceDest  float64\n",
      " 8   newbalanceDest  float64\n",
      " 9   isFraud         int64  \n",
      "dtypes: float64(5), int64(2), object(3)\n",
      "memory usage: 485.4+ MB\n"
     ]
    }
   ],
   "execution_count": 6
  },
  {
   "cell_type": "code",
   "source": [
    "df.isnull().sum()"
   ],
   "metadata": {
    "id": "YpqJVKR7Ukpi",
    "ExecuteTime": {
     "end_time": "2024-12-15T20:39:13.580166Z",
     "start_time": "2024-12-15T20:39:13.048576Z"
    }
   },
   "outputs": [
    {
     "data": {
      "text/plain": [
       "step              0\n",
       "type              0\n",
       "amount            0\n",
       "nameOrig          0\n",
       "oldbalanceOrg     0\n",
       "newbalanceOrig    0\n",
       "nameDest          0\n",
       "oldbalanceDest    0\n",
       "newbalanceDest    0\n",
       "isFraud           0\n",
       "dtype: int64"
      ]
     },
     "execution_count": 7,
     "metadata": {},
     "output_type": "execute_result"
    }
   ],
   "execution_count": 7
  },
  {
   "cell_type": "code",
   "source": [
    "# Select only numerical features for correlation analysis\n",
    "numerical_df = df.select_dtypes(include=['number'])\n",
    "\n",
    "# Calculate the correlation matrix\n",
    "correlation_matrix = numerical_df.corr()\n",
    "\n",
    "# Display the correlation matrix\n",
    "print(correlation_matrix)"
   ],
   "metadata": {
    "id": "0Gh02KeeUpBj",
    "ExecuteTime": {
     "end_time": "2024-12-15T20:39:15.263643Z",
     "start_time": "2024-12-15T20:39:14.478519Z"
    }
   },
   "outputs": [
    {
     "name": "stdout",
     "output_type": "stream",
     "text": [
      "                    step    amount  oldbalanceOrg  newbalanceOrig  \\\n",
      "step            1.000000  0.022373      -0.010058       -0.010299   \n",
      "amount          0.022373  1.000000      -0.002762       -0.007861   \n",
      "oldbalanceOrg  -0.010058 -0.002762       1.000000        0.998803   \n",
      "newbalanceOrig -0.010299 -0.007861       0.998803        1.000000   \n",
      "oldbalanceDest  0.027665  0.294137       0.066243        0.067812   \n",
      "newbalanceDest  0.025888  0.459304       0.042029        0.041837   \n",
      "isFraud         0.031578  0.076688       0.010154       -0.008148   \n",
      "\n",
      "                oldbalanceDest  newbalanceDest   isFraud  \n",
      "step                  0.027665        0.025888  0.031578  \n",
      "amount                0.294137        0.459304  0.076688  \n",
      "oldbalanceOrg         0.066243        0.042029  0.010154  \n",
      "newbalanceOrig        0.067812        0.041837 -0.008148  \n",
      "oldbalanceDest        1.000000        0.976569 -0.005885  \n",
      "newbalanceDest        0.976569        1.000000  0.000535  \n",
      "isFraud              -0.005885        0.000535  1.000000  \n"
     ]
    }
   ],
   "execution_count": 8
  },
  {
   "cell_type": "markdown",
   "source": [
    "DATA VISUALIZATION"
   ],
   "metadata": {
    "id": "K45_x3QuU1AU"
   }
  },
  {
   "cell_type": "markdown",
   "source": [
    "UNVARIATE ANALYSIS"
   ],
   "metadata": {
    "id": "KwXTIX8VU8I6"
   }
  },
  {
   "cell_type": "code",
   "source": [
    "import matplotlib.pyplot as plt\n",
    "\n",
    "fig = plt.figure(figsize=(10,7))\n",
    "df['type'].value_counts(normalize=True).plot(kind='bar')\n",
    "plt.xlabel(\"Type\")\n",
    "plt.ylabel(\"Value Count\")\n",
    "plt.show()"
   ],
   "metadata": {
    "id": "O4nNFtWSU_nE",
    "ExecuteTime": {
     "end_time": "2024-12-15T20:39:28.403367Z",
     "start_time": "2024-12-15T20:39:28.094164Z"
    }
   },
   "outputs": [
    {
     "data": {
      "text/plain": [
       "<Figure size 1000x700 with 1 Axes>"
      ],
      "image/png": "[encoded data removed]"
     },
     "metadata": {},
     "output_type": "display_data"
    }
   ],
   "execution_count": 10
  },
  {
   "cell_type": "code",
   "source": [
    "sns.boxplot(df)"
   ],
   "metadata": {
    "id": "e9Y14szHVaXo",
    "ExecuteTime": {
     "end_time": "2024-12-15T20:41:06.152609Z",
     "start_time": "2024-12-15T20:39:32.478583Z"
    }
   },
   "outputs": [
    {
     "data": {
      "text/plain": [
       "<Axes: >"
      ]
     },
     "execution_count": 11,
     "metadata": {},
     "output_type": "execute_result"
    },
    {
     "data": {
      "text/plain": [
       "<Figure size 640x480 with 1 Axes>"
      ],
      "image/png": "[encoded data removed]"
     },
     "metadata": {},
     "output_type": "display_data"
    }
   ],
   "execution_count": 11
  },
  {
   "cell_type": "code",
   "source": [
    "sns.countplot(data=df,x=\"type\")"
   ],
   "metadata": {
    "id": "ZjsumJwQVhn_",
    "ExecuteTime": {
     "end_time": "2024-12-15T20:43:45.854681Z",
     "start_time": "2024-12-15T20:43:38.983530Z"
    }
   },
   "outputs": [
    {
     "data": {
      "text/plain": [
       "<Axes: xlabel='type', ylabel='count'>"
      ]
     },
     "execution_count": 12,
     "metadata": {},
     "output_type": "execute_result"
    },
    {
     "data": {
      "text/plain": [
       "<Figure size 640x480 with 1 Axes>"
      ],
      "image/png": "[encoded data removed]"
     },
     "metadata": {},
     "output_type": "display_data"
    }
   ],
   "execution_count": 12
  },
  {
   "cell_type": "code",
   "source": "sns.displot(df.amount)",
   "metadata": {
    "id": "yNgM_wWcVo-g",
    "ExecuteTime": {
     "end_time": "2024-12-15T20:45:07.488316Z",
     "start_time": "2024-12-15T20:43:45.874127Z"
    }
   },
   "outputs": [
    {
     "data": {
      "text/plain": [
       "<seaborn.axisgrid.FacetGrid at 0x285e19ef770>"
      ]
     },
     "execution_count": 13,
     "metadata": {},
     "output_type": "execute_result"
    },
    {
     "data": {
      "text/plain": [
       "<Figure size 500x500 with 1 Axes>"
      ],
      "image/png": "[encoded data removed]"
     },
     "metadata": {},
     "output_type": "display_data"
    }
   ],
   "execution_count": 13
  },
  {
   "cell_type": "code",
   "source": [
    "sns.countplot(data=df,x=\"isFraud\")"
   ],
   "metadata": {
    "id": "fWYLVVc-V1bz",
    "ExecuteTime": {
     "end_time": "2024-12-15T20:45:23.188284Z",
     "start_time": "2024-12-15T20:45:07.708146Z"
    }
   },
   "outputs": [
    {
     "data": {
      "text/plain": [
       "<Axes: xlabel='isFraud', ylabel='count'>"
      ]
     },
     "execution_count": 14,
     "metadata": {},
     "output_type": "execute_result"
    },
    {
     "data": {
      "text/plain": [
       "<Figure size 640x480 with 1 Axes>"
      ],
      "image/png": "[encoded data removed]"
     },
     "metadata": {},
     "output_type": "display_data"
    }
   ],
   "execution_count": 14
  },
  {
   "cell_type": "code",
   "source": [
    "df[\"isFraud\"].value_counts()"
   ],
   "metadata": {
    "id": "nkyIa42bV6tZ",
    "ExecuteTime": {
     "end_time": "2024-12-15T20:45:23.313949Z",
     "start_time": "2024-12-15T20:45:23.206909Z"
    }
   },
   "outputs": [
    {
     "data": {
      "text/plain": [
       "isFraud\n",
       "0    6354407\n",
       "1       8213\n",
       "Name: count, dtype: int64"
      ]
     },
     "execution_count": 15,
     "metadata": {},
     "output_type": "execute_result"
    }
   ],
   "execution_count": 15
  },
  {
   "cell_type": "code",
   "source": [
    "# Convert the 'isFraud' column to string type\n",
    "df['isFraud'] = df['isFraud'].astype(str)\n",
    "\n",
    "# Assign the value 'is not Fraud' to rows where 'isFraud' is 0\n",
    "df.loc[df[\"isFraud\"] == \"0\", \"isFraud\"] = \"is not Fraud\""
   ],
   "metadata": {
    "id": "BT4HaSeiV92C",
    "ExecuteTime": {
     "end_time": "2024-12-15T20:45:26.886704Z",
     "start_time": "2024-12-15T20:45:23.684449Z"
    }
   },
   "outputs": [],
   "execution_count": 16
  },
  {
   "cell_type": "code",
   "source": [
    "df.head()"
   ],
   "metadata": {
    "id": "3rkPyBvKWG1H",
    "ExecuteTime": {
     "end_time": "2024-12-15T20:45:26.989483Z",
     "start_time": "2024-12-15T20:45:26.958505Z"
    }
   },
   "outputs": [
    {
     "data": {
      "text/plain": [
       "   step      type    amount     nameOrig  oldbalanceOrg  newbalanceOrig  \\\n",
       "0     1   PAYMENT   9839.64  C1231006815       170136.0       160296.36   \n",
       "1     1   PAYMENT   1864.28  C1666544295        21249.0        19384.72   \n",
       "2     1  TRANSFER    181.00  C1305486145          181.0            0.00   \n",
       "3     1  CASH_OUT    181.00   C840083671          181.0            0.00   \n",
       "4     1   PAYMENT  11668.14  C2048537720        41554.0        29885.86   \n",
       "\n",
       "      nameDest  oldbalanceDest  newbalanceDest       isFraud  \n",
       "0  M1979787155             0.0             0.0  is not Fraud  \n",
       "1  M2044282225             0.0             0.0  is not Fraud  \n",
       "2   C553264065             0.0             0.0             1  \n",
       "3    C38997010         21182.0             0.0             1  \n",
       "4  M1230701703             0.0             0.0  is not Fraud  "
      ],
      "text/html": [
       "<div>\n",
       "<style scoped>\n",
       "    .dataframe tbody tr th:only-of-type {\n",
       "        vertical-align: middle;\n",
       "    }\n",
       "\n",
       "    .dataframe tbody tr th {\n",
       "        vertical-align: top;\n",
       "    }\n",
       "\n",
       "    .dataframe thead th {\n",
       "        text-align: right;\n",
       "    }\n",
       "</style>\n",
       "<table border=\"1\" class=\"dataframe\">\n",
       "  <thead>\n",
       "    <tr style=\"text-align: right;\">\n",
       "      <th></th>\n",
       "      <th>step</th>\n",
       "      <th>type</th>\n",
       "      <th>amount</th>\n",
       "      <th>nameOrig</th>\n",
       "      <th>oldbalanceOrg</th>\n",
       "      <th>newbalanceOrig</th>\n",
       "      <th>nameDest</th>\n",
       "      <th>oldbalanceDest</th>\n",
       "      <th>newbalanceDest</th>\n",
       "      <th>isFraud</th>\n",
       "    </tr>\n",
       "  </thead>\n",
       "  <tbody>\n",
       "    <tr>\n",
       "      <th>0</th>\n",
       "      <td>1</td>\n",
       "      <td>PAYMENT</td>\n",
       "      <td>9839.64</td>\n",
       "      <td>C1231006815</td>\n",
       "      <td>170136.0</td>\n",
       "      <td>160296.36</td>\n",
       "      <td>M1979787155</td>\n",
       "      <td>0.0</td>\n",
       "      <td>0.0</td>\n",
       "      <td>is not Fraud</td>\n",
       "    </tr>\n",
       "    <tr>\n",
       "      <th>1</th>\n",
       "      <td>1</td>\n",
       "      <td>PAYMENT</td>\n",
       "      <td>1864.28</td>\n",
       "      <td>C1666544295</td>\n",
       "      <td>21249.0</td>\n",
       "      <td>19384.72</td>\n",
       "      <td>M2044282225</td>\n",
       "      <td>0.0</td>\n",
       "      <td>0.0</td>\n",
       "      <td>is not Fraud</td>\n",
       "    </tr>\n",
       "    <tr>\n",
       "      <th>2</th>\n",
       "      <td>1</td>\n",
       "      <td>TRANSFER</td>\n",
       "      <td>181.00</td>\n",
       "      <td>C1305486145</td>\n",
       "      <td>181.0</td>\n",
       "      <td>0.00</td>\n",
       "      <td>C553264065</td>\n",
       "      <td>0.0</td>\n",
       "      <td>0.0</td>\n",
       "      <td>1</td>\n",
       "    </tr>\n",
       "    <tr>\n",
       "      <th>3</th>\n",
       "      <td>1</td>\n",
       "      <td>CASH_OUT</td>\n",
       "      <td>181.00</td>\n",
       "      <td>C840083671</td>\n",
       "      <td>181.0</td>\n",
       "      <td>0.00</td>\n",
       "      <td>C38997010</td>\n",
       "      <td>21182.0</td>\n",
       "      <td>0.0</td>\n",
       "      <td>1</td>\n",
       "    </tr>\n",
       "    <tr>\n",
       "      <th>4</th>\n",
       "      <td>1</td>\n",
       "      <td>PAYMENT</td>\n",
       "      <td>11668.14</td>\n",
       "      <td>C2048537720</td>\n",
       "      <td>41554.0</td>\n",
       "      <td>29885.86</td>\n",
       "      <td>M1230701703</td>\n",
       "      <td>0.0</td>\n",
       "      <td>0.0</td>\n",
       "      <td>is not Fraud</td>\n",
       "    </tr>\n",
       "  </tbody>\n",
       "</table>\n",
       "</div>"
      ]
     },
     "execution_count": 17,
     "metadata": {},
     "output_type": "execute_result"
    }
   ],
   "execution_count": 17
  },
  {
   "cell_type": "code",
   "source": [
    "sns.jointplot(x='oldbalanceOrg', y='newbalanceOrig', data=df)"
   ],
   "metadata": {
    "id": "_4nXwESRWH48",
    "ExecuteTime": {
     "end_time": "2024-12-15T20:49:09.411853Z",
     "start_time": "2024-12-15T20:45:27.084048Z"
    }
   },
   "outputs": [
    {
     "data": {
      "text/plain": [
       "<seaborn.axisgrid.JointGrid at 0x285e19efb60>"
      ]
     },
     "execution_count": 18,
     "metadata": {},
     "output_type": "execute_result"
    },
    {
     "data": {
      "text/plain": [
       "<Figure size 600x600 with 3 Axes>"
      ],
      "image/png": "[encoded data removed]"
     },
     "metadata": {},
     "output_type": "display_data"
    }
   ],
   "execution_count": 18
  },
  {
   "cell_type": "code",
   "source": [
    "# Convert the 'isFraud' column to string type\n",
    "df['isFraud'] = df['isFraud'].astype(str)\n",
    "\n",
    "# Plot the scatterplot\n",
    "sns.scatterplot(x=df.isFraud, y=df.newbalanceOrig)\n",
    "plt.show()"
   ],
   "metadata": {
    "id": "teHQjXAYWRSN",
    "ExecuteTime": {
     "end_time": "2024-12-15T20:49:44.547483Z",
     "start_time": "2024-12-15T20:49:09.533388Z"
    }
   },
   "outputs": [
    {
     "data": {
      "text/plain": [
       "<Figure size 640x480 with 1 Axes>"
      ],
      "image/png": "[encoded data removed]"
     },
     "metadata": {},
     "output_type": "display_data"
    }
   ],
   "execution_count": 19
  },
  {
   "cell_type": "code",
   "source": [
    "sns.scatterplot(x=df.amount,y=df.oldbalanceOrg)"
   ],
   "metadata": {
    "id": "aLsHU2SuWrnf",
    "ExecuteTime": {
     "end_time": "2024-12-15T20:50:36.072008Z",
     "start_time": "2024-12-15T20:49:44.567748Z"
    }
   },
   "outputs": [
    {
     "data": {
      "text/plain": [
       "<Axes: xlabel='amount', ylabel='oldbalanceOrg'>"
      ]
     },
     "execution_count": 20,
     "metadata": {},
     "output_type": "execute_result"
    },
    {
     "data": {
      "text/plain": [
       "<Figure size 640x480 with 1 Axes>"
      ],
      "image/png": "[encoded data removed]"
     },
     "metadata": {},
     "output_type": "display_data"
    }
   ],
   "execution_count": 20
  },
  {
   "cell_type": "markdown",
   "source": [
    "MULTIVARIATE ANALYSIS"
   ],
   "metadata": {
    "id": "LMphWyH9W14G"
   }
  },
  {
   "cell_type": "code",
   "source": [
    "# Select only numerical features for correlation analysis\n",
    "numerical_df = df.select_dtypes(include=['number'])\n",
    "\n",
    "# Calculate the correlation matrix\n",
    "correlation_matrix = numerical_df.corr()\n",
    "\n",
    "# Plot the heatmap\n",
    "sns.heatmap(correlation_matrix, annot=True)\n",
    "plt.show()"
   ],
   "metadata": {
    "id": "Lq9R2jY2W6YC",
    "ExecuteTime": {
     "end_time": "2024-12-15T20:51:39.042355Z",
     "start_time": "2024-12-15T20:51:36.520607Z"
    }
   },
   "outputs": [
    {
     "data": {
      "text/plain": [
       "<Figure size 640x480 with 2 Axes>"
      ],
      "image/png": "[encoded data removed]"
     },
     "metadata": {},
     "output_type": "display_data"
    }
   ],
   "execution_count": 21
  },
  {
   "cell_type": "markdown",
   "source": [
    "DATA PREPROCESSING"
   ],
   "metadata": {
    "id": "I1tbfQP9XDqB"
   }
  },
  {
   "cell_type": "code",
   "source": [
    "df.shape"
   ],
   "metadata": {
    "id": "DQLqTOYdXFyi",
    "ExecuteTime": {
     "end_time": "2024-12-15T20:51:41.595878Z",
     "start_time": "2024-12-15T20:51:41.584347Z"
    }
   },
   "outputs": [
    {
     "data": {
      "text/plain": [
       "(6362620, 10)"
      ]
     },
     "execution_count": 22,
     "metadata": {},
     "output_type": "execute_result"
    }
   ],
   "execution_count": 22
  },
  {
   "cell_type": "code",
   "source": [
    "df.drop(['nameOrig','nameDest'], axis=1, inplace=True)\n",
    "df.columns"
   ],
   "metadata": {
    "id": "WIYIJRRMXJ1q",
    "ExecuteTime": {
     "end_time": "2024-12-15T20:51:43.168712Z",
     "start_time": "2024-12-15T20:51:42.729119Z"
    }
   },
   "outputs": [
    {
     "data": {
      "text/plain": [
       "Index(['step', 'type', 'amount', 'oldbalanceOrg', 'newbalanceOrig',\n",
       "       'oldbalanceDest', 'newbalanceDest', 'isFraud'],\n",
       "      dtype='object')"
      ]
     },
     "execution_count": 23,
     "metadata": {},
     "output_type": "execute_result"
    }
   ],
   "execution_count": 23
  },
  {
   "cell_type": "code",
   "source": [
    "df.head()"
   ],
   "metadata": {
    "id": "b-kBMKvPXSYy",
    "ExecuteTime": {
     "end_time": "2024-12-15T20:51:44.189816Z",
     "start_time": "2024-12-15T20:51:44.164913Z"
    }
   },
   "outputs": [
    {
     "data": {
      "text/plain": [
       "   step      type    amount  oldbalanceOrg  newbalanceOrig  oldbalanceDest  \\\n",
       "0     1   PAYMENT   9839.64       170136.0       160296.36             0.0   \n",
       "1     1   PAYMENT   1864.28        21249.0        19384.72             0.0   \n",
       "2     1  TRANSFER    181.00          181.0            0.00             0.0   \n",
       "3     1  CASH_OUT    181.00          181.0            0.00         21182.0   \n",
       "4     1   PAYMENT  11668.14        41554.0        29885.86             0.0   \n",
       "\n",
       "   newbalanceDest       isFraud  \n",
       "0             0.0  is not Fraud  \n",
       "1             0.0  is not Fraud  \n",
       "2             0.0             1  \n",
       "3             0.0             1  \n",
       "4             0.0  is not Fraud  "
      ],
      "text/html": [
       "<div>\n",
       "<style scoped>\n",
       "    .dataframe tbody tr th:only-of-type {\n",
       "        vertical-align: middle;\n",
       "    }\n",
       "\n",
       "    .dataframe tbody tr th {\n",
       "        vertical-align: top;\n",
       "    }\n",
       "\n",
       "    .dataframe thead th {\n",
       "        text-align: right;\n",
       "    }\n",
       "</style>\n",
       "<table border=\"1\" class=\"dataframe\">\n",
       "  <thead>\n",
       "    <tr style=\"text-align: right;\">\n",
       "      <th></th>\n",
       "      <th>step</th>\n",
       "      <th>type</th>\n",
       "      <th>amount</th>\n",
       "      <th>oldbalanceOrg</th>\n",
       "      <th>newbalanceOrig</th>\n",
       "      <th>oldbalanceDest</th>\n",
       "      <th>newbalanceDest</th>\n",
       "      <th>isFraud</th>\n",
       "    </tr>\n",
       "  </thead>\n",
       "  <tbody>\n",
       "    <tr>\n",
       "      <th>0</th>\n",
       "      <td>1</td>\n",
       "      <td>PAYMENT</td>\n",
       "      <td>9839.64</td>\n",
       "      <td>170136.0</td>\n",
       "      <td>160296.36</td>\n",
       "      <td>0.0</td>\n",
       "      <td>0.0</td>\n",
       "      <td>is not Fraud</td>\n",
       "    </tr>\n",
       "    <tr>\n",
       "      <th>1</th>\n",
       "      <td>1</td>\n",
       "      <td>PAYMENT</td>\n",
       "      <td>1864.28</td>\n",
       "      <td>21249.0</td>\n",
       "      <td>19384.72</td>\n",
       "      <td>0.0</td>\n",
       "      <td>0.0</td>\n",
       "      <td>is not Fraud</td>\n",
       "    </tr>\n",
       "    <tr>\n",
       "      <th>2</th>\n",
       "      <td>1</td>\n",
       "      <td>TRANSFER</td>\n",
       "      <td>181.00</td>\n",
       "      <td>181.0</td>\n",
       "      <td>0.00</td>\n",
       "      <td>0.0</td>\n",
       "      <td>0.0</td>\n",
       "      <td>1</td>\n",
       "    </tr>\n",
       "    <tr>\n",
       "      <th>3</th>\n",
       "      <td>1</td>\n",
       "      <td>CASH_OUT</td>\n",
       "      <td>181.00</td>\n",
       "      <td>181.0</td>\n",
       "      <td>0.00</td>\n",
       "      <td>21182.0</td>\n",
       "      <td>0.0</td>\n",
       "      <td>1</td>\n",
       "    </tr>\n",
       "    <tr>\n",
       "      <th>4</th>\n",
       "      <td>1</td>\n",
       "      <td>PAYMENT</td>\n",
       "      <td>11668.14</td>\n",
       "      <td>41554.0</td>\n",
       "      <td>29885.86</td>\n",
       "      <td>0.0</td>\n",
       "      <td>0.0</td>\n",
       "      <td>is not Fraud</td>\n",
       "    </tr>\n",
       "  </tbody>\n",
       "</table>\n",
       "</div>"
      ]
     },
     "execution_count": 24,
     "metadata": {},
     "output_type": "execute_result"
    }
   ],
   "execution_count": 24
  },
  {
   "cell_type": "markdown",
   "source": [
    "REMOVAL OF OUTLIERS"
   ],
   "metadata": {
    "id": "zdTZtqY0XY-_"
   }
  },
  {
   "cell_type": "code",
   "source": [
    "sns.boxplot(df)"
   ],
   "metadata": {
    "id": "SlbdqBndXcaF",
    "ExecuteTime": {
     "end_time": "2024-12-15T20:54:43.215758Z",
     "start_time": "2024-12-15T20:51:46.803594Z"
    }
   },
   "outputs": [
    {
     "data": {
      "text/plain": [
       "<Axes: >"
      ]
     },
     "execution_count": 25,
     "metadata": {},
     "output_type": "execute_result"
    },
    {
     "data": {
      "text/plain": [
       "<Figure size 640x480 with 1 Axes>"
      ],
      "image/png": "[encoded data removed]"
     },
     "metadata": {},
     "output_type": "display_data"
    }
   ],
   "execution_count": 25
  },
  {
   "cell_type": "markdown",
   "source": [
    "REMOVAL OF OUTLIERS BY TRANSFORMATION METHOD"
   ],
   "metadata": {
    "id": "oy1nQIoNYe6l"
   }
  },
  {
   "cell_type": "code",
   "source": [
    "num=[var for var in df.columns if df[var].dtype!='O' and var!='isFraud']\n",
    "num"
   ],
   "metadata": {
    "id": "psy4CQEsYjF-",
    "ExecuteTime": {
     "end_time": "2024-12-15T20:55:29.754553Z",
     "start_time": "2024-12-15T20:55:29.735106Z"
    }
   },
   "outputs": [
    {
     "data": {
      "text/plain": [
       "['step',\n",
       " 'amount',\n",
       " 'oldbalanceOrg',\n",
       " 'newbalanceOrig',\n",
       " 'oldbalanceDest',\n",
       " 'newbalanceDest']"
      ]
     },
     "execution_count": 26,
     "metadata": {},
     "output_type": "execute_result"
    }
   ],
   "execution_count": 26
  },
  {
   "cell_type": "code",
   "source": [
    "from scipy import stats\n",
    "for x in num:\n",
    "  bmi_z_score=stats.zscore(df[x])\n",
    "  df=df[np.abs(bmi_z_score)<=3]"
   ],
   "metadata": {
    "id": "HVmVgUbpY6El",
    "ExecuteTime": {
     "end_time": "2024-12-15T20:55:37.715380Z",
     "start_time": "2024-12-15T20:55:30.693431Z"
    }
   },
   "outputs": [],
   "execution_count": 27
  },
  {
   "cell_type": "code",
   "source": [
    "sns.boxplot(df)"
   ],
   "metadata": {
    "id": "SjS_vsDfZI9G",
    "ExecuteTime": {
     "end_time": "2024-12-15T20:59:05.729657Z",
     "start_time": "2024-12-15T20:55:37.834560Z"
    }
   },
   "outputs": [
    {
     "data": {
      "text/plain": [
       "<Axes: >"
      ]
     },
     "execution_count": 28,
     "metadata": {},
     "output_type": "execute_result"
    },
    {
     "data": {
      "text/plain": [
       "<Figure size 640x480 with 1 Axes>"
      ],
      "image/png": "[encoded data removed]"
     },
     "metadata": {},
     "output_type": "display_data"
    }
   ],
   "execution_count": 28
  },
  {
   "cell_type": "markdown",
   "source": [
    "LABEL ENCODING"
   ],
   "metadata": {
    "id": "Ll3OrSe7ZW50"
   }
  },
  {
   "cell_type": "code",
   "source": [
    "le=LabelEncoder()\n",
    "df[\"type\"]=le.fit_transform(df[\"type\"])"
   ],
   "metadata": {
    "id": "UaWyUZ2sZZWk",
    "ExecuteTime": {
     "end_time": "2024-12-15T20:59:07.828544Z",
     "start_time": "2024-12-15T20:59:05.812330Z"
    }
   },
   "outputs": [],
   "execution_count": 29
  },
  {
   "cell_type": "code",
   "source": [
    "df[\"type\"].value_counts()"
   ],
   "metadata": {
    "id": "Q7jC6POxZjOS",
    "ExecuteTime": {
     "end_time": "2024-12-15T20:59:07.923498Z",
     "start_time": "2024-12-15T20:59:07.844277Z"
    }
   },
   "outputs": [
    {
     "data": {
      "text/plain": [
       "type\n",
       "3    2129181\n",
       "1    2077111\n",
       "0     950994\n",
       "4     428622\n",
       "2      38466\n",
       "Name: count, dtype: int64"
      ]
     },
     "execution_count": 30,
     "metadata": {},
     "output_type": "execute_result"
    }
   ],
   "execution_count": 30
  },
  {
   "cell_type": "code",
   "source": [
    "x=df.drop(['isFraud'],axis=1)\n",
    "y=df['isFraud']"
   ],
   "metadata": {
    "id": "-g-jTLPFZnUp",
    "ExecuteTime": {
     "end_time": "2024-12-15T20:59:08.788047Z",
     "start_time": "2024-12-15T20:59:08.165613Z"
    }
   },
   "outputs": [],
   "execution_count": 31
  },
  {
   "cell_type": "code",
   "source": [
    "x.head()"
   ],
   "metadata": {
    "id": "4YLEsC0pZyyz",
    "ExecuteTime": {
     "end_time": "2024-12-15T20:59:08.918334Z",
     "start_time": "2024-12-15T20:59:08.896125Z"
    }
   },
   "outputs": [
    {
     "data": {
      "text/plain": [
       "   step  type    amount  oldbalanceOrg  newbalanceOrig  oldbalanceDest  \\\n",
       "0     1     3   9839.64       170136.0       160296.36             0.0   \n",
       "1     1     3   1864.28        21249.0        19384.72             0.0   \n",
       "2     1     4    181.00          181.0            0.00             0.0   \n",
       "3     1     1    181.00          181.0            0.00         21182.0   \n",
       "4     1     3  11668.14        41554.0        29885.86             0.0   \n",
       "\n",
       "   newbalanceDest  \n",
       "0             0.0  \n",
       "1             0.0  \n",
       "2             0.0  \n",
       "3             0.0  \n",
       "4             0.0  "
      ],
      "text/html": [
       "<div>\n",
       "<style scoped>\n",
       "    .dataframe tbody tr th:only-of-type {\n",
       "        vertical-align: middle;\n",
       "    }\n",
       "\n",
       "    .dataframe tbody tr th {\n",
       "        vertical-align: top;\n",
       "    }\n",
       "\n",
       "    .dataframe thead th {\n",
       "        text-align: right;\n",
       "    }\n",
       "</style>\n",
       "<table border=\"1\" class=\"dataframe\">\n",
       "  <thead>\n",
       "    <tr style=\"text-align: right;\">\n",
       "      <th></th>\n",
       "      <th>step</th>\n",
       "      <th>type</th>\n",
       "      <th>amount</th>\n",
       "      <th>oldbalanceOrg</th>\n",
       "      <th>newbalanceOrig</th>\n",
       "      <th>oldbalanceDest</th>\n",
       "      <th>newbalanceDest</th>\n",
       "    </tr>\n",
       "  </thead>\n",
       "  <tbody>\n",
       "    <tr>\n",
       "      <th>0</th>\n",
       "      <td>1</td>\n",
       "      <td>3</td>\n",
       "      <td>9839.64</td>\n",
       "      <td>170136.0</td>\n",
       "      <td>160296.36</td>\n",
       "      <td>0.0</td>\n",
       "      <td>0.0</td>\n",
       "    </tr>\n",
       "    <tr>\n",
       "      <th>1</th>\n",
       "      <td>1</td>\n",
       "      <td>3</td>\n",
       "      <td>1864.28</td>\n",
       "      <td>21249.0</td>\n",
       "      <td>19384.72</td>\n",
       "      <td>0.0</td>\n",
       "      <td>0.0</td>\n",
       "    </tr>\n",
       "    <tr>\n",
       "      <th>2</th>\n",
       "      <td>1</td>\n",
       "      <td>4</td>\n",
       "      <td>181.00</td>\n",
       "      <td>181.0</td>\n",
       "      <td>0.00</td>\n",
       "      <td>0.0</td>\n",
       "      <td>0.0</td>\n",
       "    </tr>\n",
       "    <tr>\n",
       "      <th>3</th>\n",
       "      <td>1</td>\n",
       "      <td>1</td>\n",
       "      <td>181.00</td>\n",
       "      <td>181.0</td>\n",
       "      <td>0.00</td>\n",
       "      <td>21182.0</td>\n",
       "      <td>0.0</td>\n",
       "    </tr>\n",
       "    <tr>\n",
       "      <th>4</th>\n",
       "      <td>1</td>\n",
       "      <td>3</td>\n",
       "      <td>11668.14</td>\n",
       "      <td>41554.0</td>\n",
       "      <td>29885.86</td>\n",
       "      <td>0.0</td>\n",
       "      <td>0.0</td>\n",
       "    </tr>\n",
       "  </tbody>\n",
       "</table>\n",
       "</div>"
      ]
     },
     "execution_count": 32,
     "metadata": {},
     "output_type": "execute_result"
    }
   ],
   "execution_count": 32
  },
  {
   "cell_type": "code",
   "source": [
    "y.head()"
   ],
   "metadata": {
    "id": "0uazVVr0Z0Ka",
    "ExecuteTime": {
     "end_time": "2024-12-15T20:59:09.130154Z",
     "start_time": "2024-12-15T20:59:09.120163Z"
    }
   },
   "outputs": [
    {
     "data": {
      "text/plain": [
       "0    is not Fraud\n",
       "1    is not Fraud\n",
       "2               1\n",
       "3               1\n",
       "4    is not Fraud\n",
       "Name: isFraud, dtype: object"
      ]
     },
     "execution_count": 33,
     "metadata": {},
     "output_type": "execute_result"
    }
   ],
   "execution_count": 33
  },
  {
   "cell_type": "markdown",
   "source": [
    "TRAIN TEST SPLIT"
   ],
   "metadata": {
    "id": "Guc8WQ-gZ9zV"
   }
  },
  {
   "cell_type": "code",
   "source": [
    "x_train,x_test,y_train,y_test=train_test_split(x,y,random_state=0,test_size=0.2)"
   ],
   "metadata": {
    "id": "Pib_yTk-Z_1h",
    "ExecuteTime": {
     "end_time": "2024-12-15T21:04:52.790231Z",
     "start_time": "2024-12-15T21:04:49.822299Z"
    }
   },
   "outputs": [],
   "execution_count": 37
  },
  {
   "cell_type": "markdown",
   "source": [
    "MODEL BUILDING"
   ],
   "metadata": {
    "id": "Ul3pj2_MabTi"
   }
  },
  {
   "cell_type": "markdown",
   "source": [
    "RANDOM FOREST CLASSIFIER"
   ],
   "metadata": {
    "id": "A7bNcUSeagZy"
   }
  },
  {
   "cell_type": "code",
   "source": [
    "rfc = RandomForestClassifier(n_estimators=10, max_depth=10, max_features='sqrt', random_state=0)\n",
    "\n",
    "# Fit the model\n",
    "rfc.fit(x_train, y_train)\n",
    "\n",
    "# Predict on the test set\n",
    "y_test_predict1 = rfc.predict(x_test)\n",
    "\n",
    "# Calculate the accuracy\n",
    "test_accuracy = accuracy_score(y_test, y_test_predict1)\n",
    "test_accuracy"
   ],
   "metadata": {
    "id": "ldJNn31FaaBH",
    "ExecuteTime": {
     "end_time": "2024-12-15T21:07:29.789301Z",
     "start_time": "2024-12-15T21:04:54.768154Z"
    }
   },
   "outputs": [
    {
     "data": {
      "text/plain": [
       "0.9996292921435715"
      ]
     },
     "execution_count": 38,
     "metadata": {},
     "output_type": "execute_result"
    }
   ],
   "execution_count": 38
  },
  {
   "metadata": {},
   "cell_type": "markdown",
   "source": ""
  },
  {
   "cell_type": "code",
   "source": [
    "rfc = RandomForestClassifier(n_estimators=10, max_depth=10, max_features='sqrt', random_state=0)\n",
    "\n",
    "# Fit the model\n",
    "rfc.fit(x_train, y_train)\n",
    "\n",
    "# Predict on the training set\n",
    "y_train_predict1 = rfc.predict(x_train)\n",
    "\n",
    "# Calculate the accuracy\n",
    "train_accuracy = accuracy_score(y_train, y_train_predict1)\n",
    "train_accuracy"
   ],
   "metadata": {
    "id": "GxD2zAKgazXZ",
    "ExecuteTime": {
     "end_time": "2024-12-15T21:09:22.738571Z",
     "start_time": "2024-12-15T21:07:29.892123Z"
    }
   },
   "outputs": [
    {
     "data": {
      "text/plain": [
       "0.9996619623651433"
      ]
     },
     "execution_count": 39,
     "metadata": {},
     "output_type": "execute_result"
    }
   ],
   "execution_count": 39
  },
  {
   "cell_type": "code",
   "source": [
    "pd.crosstab(y_test,y_test_predict1)"
   ],
   "metadata": {
    "id": "DrQ0n2k1a3jZ",
    "ExecuteTime": {
     "end_time": "2024-12-15T21:09:23.198817Z",
     "start_time": "2024-12-15T21:09:22.926008Z"
    }
   },
   "outputs": [
    {
     "data": {
      "text/plain": [
       "col_0           1  is not Fraud\n",
       "isFraud                        \n",
       "1             742           403\n",
       "is not Fraud   14       1123716"
      ],
      "text/html": [
       "<div>\n",
       "<style scoped>\n",
       "    .dataframe tbody tr th:only-of-type {\n",
       "        vertical-align: middle;\n",
       "    }\n",
       "\n",
       "    .dataframe tbody tr th {\n",
       "        vertical-align: top;\n",
       "    }\n",
       "\n",
       "    .dataframe thead th {\n",
       "        text-align: right;\n",
       "    }\n",
       "</style>\n",
       "<table border=\"1\" class=\"dataframe\">\n",
       "  <thead>\n",
       "    <tr style=\"text-align: right;\">\n",
       "      <th>col_0</th>\n",
       "      <th>1</th>\n",
       "      <th>is not Fraud</th>\n",
       "    </tr>\n",
       "    <tr>\n",
       "      <th>isFraud</th>\n",
       "      <th></th>\n",
       "      <th></th>\n",
       "    </tr>\n",
       "  </thead>\n",
       "  <tbody>\n",
       "    <tr>\n",
       "      <th>1</th>\n",
       "      <td>742</td>\n",
       "      <td>403</td>\n",
       "    </tr>\n",
       "    <tr>\n",
       "      <th>is not Fraud</th>\n",
       "      <td>14</td>\n",
       "      <td>1123716</td>\n",
       "    </tr>\n",
       "  </tbody>\n",
       "</table>\n",
       "</div>"
      ]
     },
     "execution_count": 40,
     "metadata": {},
     "output_type": "execute_result"
    }
   ],
   "execution_count": 40
  },
  {
   "cell_type": "code",
   "source": [
    "print(classification_report(y_test,y_test_predict1))"
   ],
   "metadata": {
    "id": "Snkl4mYSa5Bh",
    "ExecuteTime": {
     "end_time": "2024-12-15T21:09:44.717309Z",
     "start_time": "2024-12-15T21:09:23.237561Z"
    }
   },
   "outputs": [
    {
     "name": "stdout",
     "output_type": "stream",
     "text": [
      "              precision    recall  f1-score   support\n",
      "\n",
      "           1       0.98      0.65      0.78      1145\n",
      "is not Fraud       1.00      1.00      1.00   1123730\n",
      "\n",
      "    accuracy                           1.00   1124875\n",
      "   macro avg       0.99      0.82      0.89   1124875\n",
      "weighted avg       1.00      1.00      1.00   1124875\n",
      "\n"
     ]
    }
   ],
   "execution_count": 41
  },
  {
   "cell_type": "markdown",
   "source": [
    "DECISION TREE CLASSIFIER"
   ],
   "metadata": {
    "id": "JqhNhH1sbQlf"
   }
  },
  {
   "cell_type": "code",
   "source": [
    "from sklearn.tree import DecisionTreeClassifier\n",
    "from sklearn.metrics import accuracy_score\n",
    "\n",
    "# Initialize the DecisionTreeClassifier with optimized parameters\n",
    "dtc = DecisionTreeClassifier(max_depth=10, min_samples_split=10, min_samples_leaf=5, random_state=0)\n",
    "\n",
    "# Fit the model\n",
    "dtc.fit(x_train, y_train)\n",
    "\n",
    "# Predict on the test set\n",
    "y_test_predict2 = dtc.predict(x_test)\n",
    "\n",
    "# Calculate the accuracy\n",
    "test_accuracy = accuracy_score(y_test, y_test_predict2)\n",
    "test_accuracy"
   ],
   "metadata": {
    "id": "mzUd5vLfbBRT",
    "ExecuteTime": {
     "end_time": "2024-12-15T21:11:55.783028Z",
     "start_time": "2024-12-15T21:10:37.180072Z"
    }
   },
   "outputs": [
    {
     "data": {
      "text/plain": [
       "0.9996275141682409"
      ]
     },
     "execution_count": 42,
     "metadata": {},
     "output_type": "execute_result"
    }
   ],
   "execution_count": 42
  },
  {
   "cell_type": "code",
   "source": [
    "dtc = DecisionTreeClassifier(max_depth=10, min_samples_split=10, min_samples_leaf=5, random_state=0)\n",
    "\n",
    "# Fit the model\n",
    "dtc.fit(x_train, y_train)\n",
    "\n",
    "# Predict on the training set\n",
    "y_train_predict2 = dtc.predict(x_train)\n",
    "\n",
    "# Calculate the accuracy\n",
    "train_accuracy = accuracy_score(y_train, y_train_predict2)\n",
    "train_accuracy"
   ],
   "metadata": {
    "id": "o77ni6JYbaOd",
    "ExecuteTime": {
     "end_time": "2024-12-15T21:12:41.849270Z",
     "start_time": "2024-12-15T21:11:55.860464Z"
    }
   },
   "outputs": [
    {
     "data": {
      "text/plain": [
       "0.9996697410089435"
      ]
     },
     "execution_count": 43,
     "metadata": {},
     "output_type": "execute_result"
    }
   ],
   "execution_count": 43
  },
  {
   "cell_type": "code",
   "source": [
    "pd.crosstab(y_test,y_test_predict2)"
   ],
   "metadata": {
    "id": "HzgG43zIbiF2",
    "ExecuteTime": {
     "end_time": "2024-12-15T21:12:42.007835Z",
     "start_time": "2024-12-15T21:12:41.861058Z"
    }
   },
   "outputs": [
    {
     "data": {
      "text/plain": [
       "col_0           1  is not Fraud\n",
       "isFraud                        \n",
       "1             759           386\n",
       "is not Fraud   33       1123697"
      ],
      "text/html": [
       "<div>\n",
       "<style scoped>\n",
       "    .dataframe tbody tr th:only-of-type {\n",
       "        vertical-align: middle;\n",
       "    }\n",
       "\n",
       "    .dataframe tbody tr th {\n",
       "        vertical-align: top;\n",
       "    }\n",
       "\n",
       "    .dataframe thead th {\n",
       "        text-align: right;\n",
       "    }\n",
       "</style>\n",
       "<table border=\"1\" class=\"dataframe\">\n",
       "  <thead>\n",
       "    <tr style=\"text-align: right;\">\n",
       "      <th>col_0</th>\n",
       "      <th>1</th>\n",
       "      <th>is not Fraud</th>\n",
       "    </tr>\n",
       "    <tr>\n",
       "      <th>isFraud</th>\n",
       "      <th></th>\n",
       "      <th></th>\n",
       "    </tr>\n",
       "  </thead>\n",
       "  <tbody>\n",
       "    <tr>\n",
       "      <th>1</th>\n",
       "      <td>759</td>\n",
       "      <td>386</td>\n",
       "    </tr>\n",
       "    <tr>\n",
       "      <th>is not Fraud</th>\n",
       "      <td>33</td>\n",
       "      <td>1123697</td>\n",
       "    </tr>\n",
       "  </tbody>\n",
       "</table>\n",
       "</div>"
      ]
     },
     "execution_count": 44,
     "metadata": {},
     "output_type": "execute_result"
    }
   ],
   "execution_count": 44
  },
  {
   "cell_type": "code",
   "source": [
    "print(classification_report(y_test,y_test_predict2))"
   ],
   "metadata": {
    "id": "coRArQHIbkmH",
    "ExecuteTime": {
     "end_time": "2024-12-15T21:12:48.760181Z",
     "start_time": "2024-12-15T21:12:42.065314Z"
    }
   },
   "outputs": [
    {
     "name": "stdout",
     "output_type": "stream",
     "text": [
      "              precision    recall  f1-score   support\n",
      "\n",
      "           1       0.96      0.66      0.78      1145\n",
      "is not Fraud       1.00      1.00      1.00   1123730\n",
      "\n",
      "    accuracy                           1.00   1124875\n",
      "   macro avg       0.98      0.83      0.89   1124875\n",
      "weighted avg       1.00      1.00      1.00   1124875\n",
      "\n"
     ]
    }
   ],
   "execution_count": 45
  },
  {
   "cell_type": "markdown",
   "source": [
    "SUPPORT VECTOR MACHINE CLASSIFIER"
   ],
   "metadata": {
    "id": "eNm9evbLbsSr"
   }
  },
  {
   "cell_type": "code",
   "source": [
    "from sklearn.svm import LinearSVC\n",
    "from sklearn.metrics import accuracy_score\n",
    "\n",
    "# Initialize the LinearSVC with optimized parameters\n",
    "svc = LinearSVC(C=1, random_state=0, max_iter=100)\n",
    "\n",
    "# Fit the model\n",
    "svc.fit(x_train, y_train)\n",
    "\n",
    "# Predict on the test set\n",
    "y_test_predict4 = svc.predict(x_test)\n",
    "\n",
    "# Calculate the accuracy\n",
    "test_accuracy = accuracy_score(y_test, y_test_predict4)\n",
    "test_accuracy"
   ],
   "metadata": {
    "id": "U9pembqEbmVG",
    "ExecuteTime": {
     "end_time": "2024-12-15T21:13:49.109543Z",
     "start_time": "2024-12-15T21:12:54.555241Z"
    }
   },
   "outputs": [
    {
     "data": {
      "text/plain": [
       "0.9992274697188577"
      ]
     },
     "execution_count": 46,
     "metadata": {},
     "output_type": "execute_result"
    }
   ],
   "execution_count": 46
  },
  {
   "cell_type": "code",
   "source": [
    "svc = LinearSVC(C=1, random_state=0,max_iter=100)\n",
    "\n",
    "# Fit the model\n",
    "svc.fit(x_train, y_train)\n",
    "\n",
    "# Predict on the training set\n",
    "y_train_predict4 = svc.predict(x_train)\n",
    "\n",
    "# Calculate the accuracy\n",
    "train_accuracy = accuracy_score(y_train, y_train_predict4)\n",
    "train_accuracy"
   ],
   "metadata": {
    "id": "1zvZeLmDbztw",
    "ExecuteTime": {
     "end_time": "2024-12-15T21:14:52.236955Z",
     "start_time": "2024-12-15T21:13:49.153610Z"
    }
   },
   "outputs": [
    {
     "data": {
      "text/plain": [
       "0.999218135174605"
      ]
     },
     "execution_count": 47,
     "metadata": {},
     "output_type": "execute_result"
    }
   ],
   "execution_count": 47
  },
  {
   "cell_type": "code",
   "source": [
    "pd.crosstab(y_test,y_test_predict4)"
   ],
   "metadata": {
    "id": "LZKfZH10b6wv",
    "ExecuteTime": {
     "end_time": "2024-12-15T21:14:52.612833Z",
     "start_time": "2024-12-15T21:14:52.362Z"
    }
   },
   "outputs": [
    {
     "data": {
      "text/plain": [
       "col_0           1  is not Fraud\n",
       "isFraud                        \n",
       "1             326           819\n",
       "is not Fraud   50       1123680"
      ],
      "text/html": [
       "<div>\n",
       "<style scoped>\n",
       "    .dataframe tbody tr th:only-of-type {\n",
       "        vertical-align: middle;\n",
       "    }\n",
       "\n",
       "    .dataframe tbody tr th {\n",
       "        vertical-align: top;\n",
       "    }\n",
       "\n",
       "    .dataframe thead th {\n",
       "        text-align: right;\n",
       "    }\n",
       "</style>\n",
       "<table border=\"1\" class=\"dataframe\">\n",
       "  <thead>\n",
       "    <tr style=\"text-align: right;\">\n",
       "      <th>col_0</th>\n",
       "      <th>1</th>\n",
       "      <th>is not Fraud</th>\n",
       "    </tr>\n",
       "    <tr>\n",
       "      <th>isFraud</th>\n",
       "      <th></th>\n",
       "      <th></th>\n",
       "    </tr>\n",
       "  </thead>\n",
       "  <tbody>\n",
       "    <tr>\n",
       "      <th>1</th>\n",
       "      <td>326</td>\n",
       "      <td>819</td>\n",
       "    </tr>\n",
       "    <tr>\n",
       "      <th>is not Fraud</th>\n",
       "      <td>50</td>\n",
       "      <td>1123680</td>\n",
       "    </tr>\n",
       "  </tbody>\n",
       "</table>\n",
       "</div>"
      ]
     },
     "execution_count": 48,
     "metadata": {},
     "output_type": "execute_result"
    }
   ],
   "execution_count": 48
  },
  {
   "cell_type": "code",
   "source": [
    "print(classification_report(y_test, y_test_predict4))"
   ],
   "metadata": {
    "id": "CpXhegvob8ig",
    "ExecuteTime": {
     "end_time": "2024-12-15T21:15:09.223573Z",
     "start_time": "2024-12-15T21:14:52.666577Z"
    }
   },
   "outputs": [
    {
     "name": "stdout",
     "output_type": "stream",
     "text": [
      "              precision    recall  f1-score   support\n",
      "\n",
      "           1       0.87      0.28      0.43      1145\n",
      "is not Fraud       1.00      1.00      1.00   1123730\n",
      "\n",
      "    accuracy                           1.00   1124875\n",
      "   macro avg       0.93      0.64      0.71   1124875\n",
      "weighted avg       1.00      1.00      1.00   1124875\n",
      "\n"
     ]
    }
   ],
   "execution_count": 49
  },
  {
   "cell_type": "code",
   "source": [
    "df.columns"
   ],
   "metadata": {
    "id": "R0DZRyjOcHYC",
    "ExecuteTime": {
     "end_time": "2024-12-15T21:15:09.258153Z",
     "start_time": "2024-12-15T21:15:09.253161Z"
    }
   },
   "outputs": [
    {
     "data": {
      "text/plain": [
       "Index(['step', 'type', 'amount', 'oldbalanceOrg', 'newbalanceOrig',\n",
       "       'oldbalanceDest', 'newbalanceDest', 'isFraud'],\n",
       "      dtype='object')"
      ]
     },
     "execution_count": 50,
     "metadata": {},
     "output_type": "execute_result"
    }
   ],
   "execution_count": 50
  },
  {
   "cell_type": "code",
   "source": [
    "la=LabelEncoder()\n",
    "y_train1 = la.fit_transform(y_train)"
   ],
   "metadata": {
    "id": "VaWqOgYJcMDJ",
    "ExecuteTime": {
     "end_time": "2024-12-15T21:15:09.705034Z",
     "start_time": "2024-12-15T21:15:09.313775Z"
    }
   },
   "outputs": [],
   "execution_count": 51
  },
  {
   "cell_type": "code",
   "source": [
    "y_test1=la.transform(y_test)"
   ],
   "metadata": {
    "id": "XJNfO2xHcXZE",
    "ExecuteTime": {
     "end_time": "2024-12-15T21:15:09.814503Z",
     "start_time": "2024-12-15T21:15:09.723330Z"
    }
   },
   "outputs": [],
   "execution_count": 52
  },
  {
   "cell_type": "code",
   "source": [
    "y_test1=la.transform(y_test)"
   ],
   "metadata": {
    "id": "uUDh6NiicdL6",
    "ExecuteTime": {
     "end_time": "2024-12-15T21:15:09.923284Z",
     "start_time": "2024-12-15T21:15:09.835463Z"
    }
   },
   "outputs": [],
   "execution_count": 53
  },
  {
   "cell_type": "code",
   "source": [
    "y_train1"
   ],
   "metadata": {
    "id": "Sk9DZTkzcnm_",
    "ExecuteTime": {
     "end_time": "2024-12-15T21:15:09.953971Z",
     "start_time": "2024-12-15T21:15:09.949052Z"
    }
   },
   "outputs": [
    {
     "data": {
      "text/plain": [
       "array([1, 1, 1, ..., 1, 1, 1], shape=(4499499,))"
      ]
     },
     "execution_count": 54,
     "metadata": {},
     "output_type": "execute_result"
    }
   ],
   "execution_count": 54
  },
  {
   "cell_type": "markdown",
   "source": [
    "4 XGBOOST CLASSIFIER"
   ],
   "metadata": {
    "id": "DOcQhVeccpTL"
   }
  },
  {
   "cell_type": "code",
   "source": [
    "import xgboost as xgb\n",
    "from sklearn.metrics import accuracy_score\n",
    "\n",
    "# Initialize the XGBClassifier with optimized parameters\n",
    "xgb1 = xgb.XGBClassifier(n_estimators=10, max_depth=5, learning_rate=0.1, random_state=0)\n",
    "\n",
    "# Fit the model\n",
    "xgb1.fit(x_train, y_train1)\n",
    "\n",
    "# Predict on the test set\n",
    "y_test_predict5 = xgb1.predict(x_test)\n",
    "\n",
    "# Calculate the accuracy\n",
    "test_accuracy = accuracy_score(y_test1, y_test_predict5)\n",
    "test_accuracy"
   ],
   "metadata": {
    "id": "1j8Lv1KPcoo3",
    "ExecuteTime": {
     "end_time": "2024-12-15T21:16:00.675246Z",
     "start_time": "2024-12-15T21:15:56.351021Z"
    }
   },
   "outputs": [
    {
     "data": {
      "text/plain": [
       "0.999552839204356"
      ]
     },
     "execution_count": 55,
     "metadata": {},
     "output_type": "execute_result"
    }
   ],
   "execution_count": 55
  },
  {
   "cell_type": "code",
   "source": [
    "import xgboost as xgb\n",
    "from sklearn.metrics import accuracy_score\n",
    "\n",
    "# Initialize the XGBClassifier with optimized parameters\n",
    "xgb1 = xgb.XGBClassifier(n_estimators=10, max_depth=5, learning_rate=0.1, random_state=0)\n",
    "\n",
    "# Fit the model\n",
    "xgb1.fit(x_train, y_train1)\n",
    "\n",
    "# Predict on the training set\n",
    "y_train_predict5 = xgb1.predict(x_train)\n",
    "\n",
    "# Calculate the accuracy\n",
    "train_accuracy = accuracy_score(y_train1, y_train_predict5)\n",
    "train_accuracy"
   ],
   "metadata": {
    "id": "EfJgVsLkc8Gu",
    "ExecuteTime": {
     "end_time": "2024-12-15T21:16:04.576791Z",
     "start_time": "2024-12-15T21:16:00.711849Z"
    }
   },
   "outputs": [
    {
     "data": {
      "text/plain": [
       "0.9995792864938963"
      ]
     },
     "execution_count": 56,
     "metadata": {},
     "output_type": "execute_result"
    }
   ],
   "execution_count": 56
  },
  {
   "cell_type": "code",
   "source": [
    "pd.crosstab(y_test1,y_test_predict5)"
   ],
   "metadata": {
    "id": "CX9czH4gc_xv",
    "ExecuteTime": {
     "end_time": "2024-12-15T21:16:04.922628Z",
     "start_time": "2024-12-15T21:16:04.700285Z"
    }
   },
   "outputs": [
    {
     "data": {
      "text/plain": [
       "col_0    0        1\n",
       "row_0              \n",
       "0      668      477\n",
       "1       26  1123704"
      ],
      "text/html": [
       "<div>\n",
       "<style scoped>\n",
       "    .dataframe tbody tr th:only-of-type {\n",
       "        vertical-align: middle;\n",
       "    }\n",
       "\n",
       "    .dataframe tbody tr th {\n",
       "        vertical-align: top;\n",
       "    }\n",
       "\n",
       "    .dataframe thead th {\n",
       "        text-align: right;\n",
       "    }\n",
       "</style>\n",
       "<table border=\"1\" class=\"dataframe\">\n",
       "  <thead>\n",
       "    <tr style=\"text-align: right;\">\n",
       "      <th>col_0</th>\n",
       "      <th>0</th>\n",
       "      <th>1</th>\n",
       "    </tr>\n",
       "    <tr>\n",
       "      <th>row_0</th>\n",
       "      <th></th>\n",
       "      <th></th>\n",
       "    </tr>\n",
       "  </thead>\n",
       "  <tbody>\n",
       "    <tr>\n",
       "      <th>0</th>\n",
       "      <td>668</td>\n",
       "      <td>477</td>\n",
       "    </tr>\n",
       "    <tr>\n",
       "      <th>1</th>\n",
       "      <td>26</td>\n",
       "      <td>1123704</td>\n",
       "    </tr>\n",
       "  </tbody>\n",
       "</table>\n",
       "</div>"
      ]
     },
     "execution_count": 57,
     "metadata": {},
     "output_type": "execute_result"
    }
   ],
   "execution_count": 57
  },
  {
   "cell_type": "code",
   "source": "print(classification_report(y_test1, y_test_predict5))",
   "metadata": {
    "id": "lMKw9G--dBoy",
    "ExecuteTime": {
     "end_time": "2024-12-15T21:16:05.559879Z",
     "start_time": "2024-12-15T21:16:05.046607Z"
    }
   },
   "outputs": [
    {
     "name": "stdout",
     "output_type": "stream",
     "text": [
      "              precision    recall  f1-score   support\n",
      "\n",
      "           0       0.96      0.58      0.73      1145\n",
      "           1       1.00      1.00      1.00   1123730\n",
      "\n",
      "    accuracy                           1.00   1124875\n",
      "   macro avg       0.98      0.79      0.86   1124875\n",
      "weighted avg       1.00      1.00      1.00   1124875\n",
      "\n"
     ]
    }
   ],
   "execution_count": 58
  },
  {
   "cell_type": "markdown",
   "source": [
    "SAVING THE MODEL"
   ],
   "metadata": {
    "id": "9lxIpy1gdMor"
   }
  },
  {
   "cell_type": "code",
   "source": [
    "import pickle\n",
    "pickle.dump(xgb1,open(\"model.pkl\",\"wb\"))"
   ],
   "metadata": {
    "id": "QZJrDbAadDgt",
    "ExecuteTime": {
     "end_time": "2024-12-15T21:16:07.473954Z",
     "start_time": "2024-12-15T21:16:07.460725Z"
    }
   },
   "outputs": [],
   "execution_count": 59
  },
  {
   "metadata": {
    "ExecuteTime": {
     "end_time": "2024-12-15T21:16:13.500513Z",
     "start_time": "2024-12-15T21:16:13.492304Z"
    }
   },
   "cell_type": "code",
   "source": "model=pickle.load(open(\"model.pkl\",\"rb\"))",
   "outputs": [],
   "execution_count": 60
  }
 ]
}
